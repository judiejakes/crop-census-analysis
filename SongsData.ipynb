{
 "cells": [
  {
   "cell_type": "markdown",
   "id": "41693854-0477-45b4-82c9-213c05c12c5b",
   "metadata": {},
   "source": [
    "### Loading and inspecting the data."
   ]
  },
  {
   "cell_type": "code",
   "execution_count": 2,
   "id": "0f37df90-d5c9-45a4-ba64-4ae0ab60301e",
   "metadata": {},
   "outputs": [],
   "source": [
    "#Importing pandas as pd\n",
    "import pandas as pd"
   ]
  },
  {
   "cell_type": "code",
   "execution_count": 3,
   "id": "27184c02-65d4-482b-983b-c13e801742b7",
   "metadata": {},
   "outputs": [],
   "source": [
    "#Reading csv file\n",
    "filepath = \"DataFiles/songs.csv\"\n",
    "df = pd.read_csv(filepath)"
   ]
  },
  {
   "cell_type": "code",
   "execution_count": 4,
   "id": "16f249ad-f3ce-4e2f-9432-4c5534211217",
   "metadata": {},
   "outputs": [
    {
     "data": {
      "text/html": [
       "<div>\n",
       "<style scoped>\n",
       "    .dataframe tbody tr th:only-of-type {\n",
       "        vertical-align: middle;\n",
       "    }\n",
       "\n",
       "    .dataframe tbody tr th {\n",
       "        vertical-align: top;\n",
       "    }\n",
       "\n",
       "    .dataframe thead th {\n",
       "        text-align: right;\n",
       "    }\n",
       "</style>\n",
       "<table border=\"1\" class=\"dataframe\">\n",
       "  <thead>\n",
       "    <tr style=\"text-align: right;\">\n",
       "      <th></th>\n",
       "      <th>Title</th>\n",
       "      <th>Artist</th>\n",
       "      <th>Album</th>\n",
       "      <th>Genre</th>\n",
       "      <th>Release Date</th>\n",
       "      <th>Duration</th>\n",
       "      <th>Popularity</th>\n",
       "    </tr>\n",
       "  </thead>\n",
       "  <tbody>\n",
       "    <tr>\n",
       "      <th>0</th>\n",
       "      <td>Include name this.</td>\n",
       "      <td>Patrick Anderson</td>\n",
       "      <td>Care.</td>\n",
       "      <td>R&amp;B</td>\n",
       "      <td>2008-01-09</td>\n",
       "      <td>262</td>\n",
       "      <td>71</td>\n",
       "    </tr>\n",
       "    <tr>\n",
       "      <th>1</th>\n",
       "      <td>Manage west energy.</td>\n",
       "      <td>Eric Miller</td>\n",
       "      <td>Raise get.</td>\n",
       "      <td>Jazz</td>\n",
       "      <td>2011-08-20</td>\n",
       "      <td>187</td>\n",
       "      <td>37</td>\n",
       "    </tr>\n",
       "    <tr>\n",
       "      <th>2</th>\n",
       "      <td>Evening court painting.</td>\n",
       "      <td>Richard Curry</td>\n",
       "      <td>Sport.</td>\n",
       "      <td>Electronic</td>\n",
       "      <td>2010-05-30</td>\n",
       "      <td>212</td>\n",
       "      <td>58</td>\n",
       "    </tr>\n",
       "    <tr>\n",
       "      <th>3</th>\n",
       "      <td>Section turn hour.</td>\n",
       "      <td>James Smith</td>\n",
       "      <td>Full.</td>\n",
       "      <td>Hip-Hop</td>\n",
       "      <td>2014-10-12</td>\n",
       "      <td>272</td>\n",
       "      <td>59</td>\n",
       "    </tr>\n",
       "    <tr>\n",
       "      <th>4</th>\n",
       "      <td>Five agreement teach.</td>\n",
       "      <td>Amy Rodriguez</td>\n",
       "      <td>Eat.</td>\n",
       "      <td>Blues</td>\n",
       "      <td>2005-06-09</td>\n",
       "      <td>131</td>\n",
       "      <td>34</td>\n",
       "    </tr>\n",
       "  </tbody>\n",
       "</table>\n",
       "</div>"
      ],
      "text/plain": [
       "                     Title            Artist       Album       Genre  \\\n",
       "0       Include name this.  Patrick Anderson       Care.         R&B   \n",
       "1      Manage west energy.       Eric Miller  Raise get.        Jazz   \n",
       "2  Evening court painting.     Richard Curry      Sport.  Electronic   \n",
       "3       Section turn hour.       James Smith       Full.     Hip-Hop   \n",
       "4    Five agreement teach.     Amy Rodriguez        Eat.       Blues   \n",
       "\n",
       "  Release Date  Duration  Popularity  \n",
       "0   2008-01-09       262          71  \n",
       "1   2011-08-20       187          37  \n",
       "2   2010-05-30       212          58  \n",
       "3   2014-10-12       272          59  \n",
       "4   2005-06-09       131          34  "
      ]
     },
     "execution_count": 4,
     "metadata": {},
     "output_type": "execute_result"
    }
   ],
   "source": [
    "#Inspecting data\n",
    "df.head()"
   ]
  },
  {
   "cell_type": "code",
   "execution_count": 5,
   "id": "e502f5cd-5f14-4142-b5b9-bbb88238c334",
   "metadata": {},
   "outputs": [
    {
     "data": {
      "text/plain": [
       "(50000, 7)"
      ]
     },
     "execution_count": 5,
     "metadata": {},
     "output_type": "execute_result"
    }
   ],
   "source": [
    "df.shape"
   ]
  },
  {
   "cell_type": "code",
   "execution_count": 6,
   "id": "42032903-d11b-4228-864a-cc6d762dcbee",
   "metadata": {},
   "outputs": [],
   "source": [
    "df = df.rename(columns={\"Duration\":\"Duration in Minutes\"})"
   ]
  },
  {
   "cell_type": "code",
   "execution_count": 7,
   "id": "e9655bc7-c7b8-4022-9873-8e1b0a4d4b58",
   "metadata": {},
   "outputs": [
    {
     "data": {
      "text/html": [
       "<div>\n",
       "<style scoped>\n",
       "    .dataframe tbody tr th:only-of-type {\n",
       "        vertical-align: middle;\n",
       "    }\n",
       "\n",
       "    .dataframe tbody tr th {\n",
       "        vertical-align: top;\n",
       "    }\n",
       "\n",
       "    .dataframe thead th {\n",
       "        text-align: right;\n",
       "    }\n",
       "</style>\n",
       "<table border=\"1\" class=\"dataframe\">\n",
       "  <thead>\n",
       "    <tr style=\"text-align: right;\">\n",
       "      <th></th>\n",
       "      <th>Title</th>\n",
       "      <th>Artist</th>\n",
       "      <th>Album</th>\n",
       "      <th>Genre</th>\n",
       "      <th>Release Date</th>\n",
       "      <th>Duration in Minutes</th>\n",
       "      <th>Popularity</th>\n",
       "    </tr>\n",
       "  </thead>\n",
       "  <tbody>\n",
       "    <tr>\n",
       "      <th>0</th>\n",
       "      <td>Include name this.</td>\n",
       "      <td>Patrick Anderson</td>\n",
       "      <td>Care.</td>\n",
       "      <td>R&amp;B</td>\n",
       "      <td>2008-01-09</td>\n",
       "      <td>262</td>\n",
       "      <td>71</td>\n",
       "    </tr>\n",
       "    <tr>\n",
       "      <th>1</th>\n",
       "      <td>Manage west energy.</td>\n",
       "      <td>Eric Miller</td>\n",
       "      <td>Raise get.</td>\n",
       "      <td>Jazz</td>\n",
       "      <td>2011-08-20</td>\n",
       "      <td>187</td>\n",
       "      <td>37</td>\n",
       "    </tr>\n",
       "    <tr>\n",
       "      <th>2</th>\n",
       "      <td>Evening court painting.</td>\n",
       "      <td>Richard Curry</td>\n",
       "      <td>Sport.</td>\n",
       "      <td>Electronic</td>\n",
       "      <td>2010-05-30</td>\n",
       "      <td>212</td>\n",
       "      <td>58</td>\n",
       "    </tr>\n",
       "    <tr>\n",
       "      <th>3</th>\n",
       "      <td>Section turn hour.</td>\n",
       "      <td>James Smith</td>\n",
       "      <td>Full.</td>\n",
       "      <td>Hip-Hop</td>\n",
       "      <td>2014-10-12</td>\n",
       "      <td>272</td>\n",
       "      <td>59</td>\n",
       "    </tr>\n",
       "    <tr>\n",
       "      <th>4</th>\n",
       "      <td>Five agreement teach.</td>\n",
       "      <td>Amy Rodriguez</td>\n",
       "      <td>Eat.</td>\n",
       "      <td>Blues</td>\n",
       "      <td>2005-06-09</td>\n",
       "      <td>131</td>\n",
       "      <td>34</td>\n",
       "    </tr>\n",
       "    <tr>\n",
       "      <th>...</th>\n",
       "      <td>...</td>\n",
       "      <td>...</td>\n",
       "      <td>...</td>\n",
       "      <td>...</td>\n",
       "      <td>...</td>\n",
       "      <td>...</td>\n",
       "      <td>...</td>\n",
       "    </tr>\n",
       "    <tr>\n",
       "      <th>49995</th>\n",
       "      <td>Thing.</td>\n",
       "      <td>Brandon Thomas</td>\n",
       "      <td>Lawyer sign.</td>\n",
       "      <td>Rock</td>\n",
       "      <td>2008-06-07</td>\n",
       "      <td>300</td>\n",
       "      <td>95</td>\n",
       "    </tr>\n",
       "    <tr>\n",
       "      <th>49996</th>\n",
       "      <td>Option.</td>\n",
       "      <td>Barry White</td>\n",
       "      <td>Cold.</td>\n",
       "      <td>Pop</td>\n",
       "      <td>2016-09-06</td>\n",
       "      <td>220</td>\n",
       "      <td>23</td>\n",
       "    </tr>\n",
       "    <tr>\n",
       "      <th>49997</th>\n",
       "      <td>Ability ever.</td>\n",
       "      <td>Leah Obrien</td>\n",
       "      <td>Trade.</td>\n",
       "      <td>Blues</td>\n",
       "      <td>2013-10-16</td>\n",
       "      <td>257</td>\n",
       "      <td>79</td>\n",
       "    </tr>\n",
       "    <tr>\n",
       "      <th>49998</th>\n",
       "      <td>Occur claim who.</td>\n",
       "      <td>Ashley James</td>\n",
       "      <td>Explain moment.</td>\n",
       "      <td>Jazz</td>\n",
       "      <td>2018-03-06</td>\n",
       "      <td>262</td>\n",
       "      <td>22</td>\n",
       "    </tr>\n",
       "    <tr>\n",
       "      <th>49999</th>\n",
       "      <td>Value.</td>\n",
       "      <td>John Wong</td>\n",
       "      <td>Each.</td>\n",
       "      <td>Country</td>\n",
       "      <td>2002-11-26</td>\n",
       "      <td>203</td>\n",
       "      <td>70</td>\n",
       "    </tr>\n",
       "  </tbody>\n",
       "</table>\n",
       "<p>50000 rows × 7 columns</p>\n",
       "</div>"
      ],
      "text/plain": [
       "                         Title            Artist            Album       Genre  \\\n",
       "0           Include name this.  Patrick Anderson            Care.         R&B   \n",
       "1          Manage west energy.       Eric Miller       Raise get.        Jazz   \n",
       "2      Evening court painting.     Richard Curry           Sport.  Electronic   \n",
       "3           Section turn hour.       James Smith            Full.     Hip-Hop   \n",
       "4        Five agreement teach.     Amy Rodriguez             Eat.       Blues   \n",
       "...                        ...               ...              ...         ...   \n",
       "49995                   Thing.    Brandon Thomas     Lawyer sign.        Rock   \n",
       "49996                  Option.       Barry White            Cold.         Pop   \n",
       "49997            Ability ever.       Leah Obrien           Trade.       Blues   \n",
       "49998         Occur claim who.      Ashley James  Explain moment.        Jazz   \n",
       "49999                   Value.         John Wong            Each.     Country   \n",
       "\n",
       "      Release Date  Duration in Minutes  Popularity  \n",
       "0       2008-01-09                  262          71  \n",
       "1       2011-08-20                  187          37  \n",
       "2       2010-05-30                  212          58  \n",
       "3       2014-10-12                  272          59  \n",
       "4       2005-06-09                  131          34  \n",
       "...            ...                  ...         ...  \n",
       "49995   2008-06-07                  300          95  \n",
       "49996   2016-09-06                  220          23  \n",
       "49997   2013-10-16                  257          79  \n",
       "49998   2018-03-06                  262          22  \n",
       "49999   2002-11-26                  203          70  \n",
       "\n",
       "[50000 rows x 7 columns]"
      ]
     },
     "execution_count": 7,
     "metadata": {},
     "output_type": "execute_result"
    }
   ],
   "source": [
    "df"
   ]
  },
  {
   "cell_type": "markdown",
   "id": "c280a1d0-d35f-4b91-afb0-7343bdb6e9f3",
   "metadata": {},
   "source": [
    "### Cleaning and preparing the data."
   ]
  },
  {
   "cell_type": "code",
   "execution_count": 9,
   "id": "8d2abd12-46a3-43b3-86b5-55d1d9d38157",
   "metadata": {},
   "outputs": [
    {
     "data": {
      "text/plain": [
       "Title                  0\n",
       "Artist                 0\n",
       "Album                  0\n",
       "Genre                  0\n",
       "Release Date           0\n",
       "Duration in Minutes    0\n",
       "Popularity             0\n",
       "dtype: int64"
      ]
     },
     "execution_count": 9,
     "metadata": {},
     "output_type": "execute_result"
    }
   ],
   "source": [
    "df.isnull().sum()"
   ]
  },
  {
   "cell_type": "code",
   "execution_count": 10,
   "id": "5a736063-075c-48a4-9dde-4f9a1fef16e6",
   "metadata": {},
   "outputs": [
    {
     "data": {
      "text/html": [
       "<div>\n",
       "<style scoped>\n",
       "    .dataframe tbody tr th:only-of-type {\n",
       "        vertical-align: middle;\n",
       "    }\n",
       "\n",
       "    .dataframe tbody tr th {\n",
       "        vertical-align: top;\n",
       "    }\n",
       "\n",
       "    .dataframe thead th {\n",
       "        text-align: right;\n",
       "    }\n",
       "</style>\n",
       "<table border=\"1\" class=\"dataframe\">\n",
       "  <thead>\n",
       "    <tr style=\"text-align: right;\">\n",
       "      <th></th>\n",
       "      <th>Title</th>\n",
       "      <th>Artist</th>\n",
       "      <th>Album</th>\n",
       "      <th>Genre</th>\n",
       "      <th>Release Date</th>\n",
       "      <th>Duration in Minutes</th>\n",
       "      <th>Popularity</th>\n",
       "    </tr>\n",
       "  </thead>\n",
       "  <tbody>\n",
       "  </tbody>\n",
       "</table>\n",
       "</div>"
      ],
      "text/plain": [
       "Empty DataFrame\n",
       "Columns: [Title, Artist, Album, Genre, Release Date, Duration in Minutes, Popularity]\n",
       "Index: []"
      ]
     },
     "execution_count": 10,
     "metadata": {},
     "output_type": "execute_result"
    }
   ],
   "source": [
    "df[df.duplicated()]"
   ]
  },
  {
   "cell_type": "code",
   "execution_count": 11,
   "id": "769937c7-5edb-4f00-aca6-666735838a12",
   "metadata": {},
   "outputs": [
    {
     "name": "stdout",
     "output_type": "stream",
     "text": [
      "391.5\n",
      "27.5\n"
     ]
    }
   ],
   "source": [
    "q3 = df[\"Duration in Minutes\"].quantile(0.75)\n",
    "q1 = df[\"Duration in Minutes\"].quantile(0.25)\n",
    "\n",
    "iqr = q3-q1\n",
    "\n",
    "upper_bound=q3+1.5*iqr\n",
    "lower_bound = q1-1.5*iqr\n",
    "\n",
    "print(upper_bound)\n",
    "print(lower_bound)"
   ]
  },
  {
   "cell_type": "code",
   "execution_count": 12,
   "id": "ba977f5a-59db-466f-b7f4-1de449fc50f7",
   "metadata": {},
   "outputs": [],
   "source": [
    "df=df[(df['Duration in Minutes'] >= lower_bound) & (df['Duration in Minutes'] <= upper_bound)]"
   ]
  },
  {
   "cell_type": "code",
   "execution_count": 13,
   "id": "860cb0f9-c45c-489d-b415-c125851e1023",
   "metadata": {},
   "outputs": [
    {
     "data": {
      "text/plain": [
       "(50000, 7)"
      ]
     },
     "execution_count": 13,
     "metadata": {},
     "output_type": "execute_result"
    }
   ],
   "source": [
    "df.shape"
   ]
  },
  {
   "cell_type": "code",
   "execution_count": 14,
   "id": "10015540-b7e1-41d4-9bde-7fb698d7ee1a",
   "metadata": {},
   "outputs": [
    {
     "name": "stdout",
     "output_type": "stream",
     "text": [
      "152.5\n",
      "-51.5\n"
     ]
    }
   ],
   "source": [
    "q3 = df[\"Popularity\"].quantile(0.75)\n",
    "q1 = df[\"Popularity\"].quantile(0.25)\n",
    "\n",
    "iqr = q3-q1\n",
    "\n",
    "upper_bound=q3+1.5*iqr\n",
    "lower_bound = q1-1.5*iqr\n",
    "\n",
    "print(upper_bound)\n",
    "print(lower_bound)"
   ]
  },
  {
   "cell_type": "code",
   "execution_count": 15,
   "id": "ac8e42f0-3dc7-4b5e-aa3a-aab58d675ffb",
   "metadata": {},
   "outputs": [],
   "source": [
    "df=df[(df['Popularity'] >= lower_bound) & (df['Popularity'] <= upper_bound)]"
   ]
  },
  {
   "cell_type": "code",
   "execution_count": 16,
   "id": "b35cb3fe-7200-4620-8179-525de25ebbf9",
   "metadata": {},
   "outputs": [
    {
     "data": {
      "text/plain": [
       "(50000, 7)"
      ]
     },
     "execution_count": 16,
     "metadata": {},
     "output_type": "execute_result"
    }
   ],
   "source": [
    "df.shape"
   ]
  },
  {
   "cell_type": "markdown",
   "id": "c2d6bbe5-81a6-4082-b1ac-08b65ceab6f8",
   "metadata": {},
   "source": [
    "### Performing data manipulation."
   ]
  },
  {
   "cell_type": "code",
   "execution_count": 18,
   "id": "7a932fbb-d636-4ce3-86b8-0d7d0fe3261b",
   "metadata": {},
   "outputs": [
    {
     "data": {
      "text/html": [
       "<div>\n",
       "<style scoped>\n",
       "    .dataframe tbody tr th:only-of-type {\n",
       "        vertical-align: middle;\n",
       "    }\n",
       "\n",
       "    .dataframe tbody tr th {\n",
       "        vertical-align: top;\n",
       "    }\n",
       "\n",
       "    .dataframe thead th {\n",
       "        text-align: right;\n",
       "    }\n",
       "</style>\n",
       "<table border=\"1\" class=\"dataframe\">\n",
       "  <thead>\n",
       "    <tr style=\"text-align: right;\">\n",
       "      <th></th>\n",
       "      <th>Title</th>\n",
       "      <th>Artist</th>\n",
       "      <th>Album</th>\n",
       "      <th>Genre</th>\n",
       "      <th>Release Date</th>\n",
       "      <th>Duration in Minutes</th>\n",
       "      <th>Popularity</th>\n",
       "    </tr>\n",
       "  </thead>\n",
       "  <tbody>\n",
       "    <tr>\n",
       "      <th>0</th>\n",
       "      <td>Include name this.</td>\n",
       "      <td>Patrick Anderson</td>\n",
       "      <td>Care.</td>\n",
       "      <td>R&amp;B</td>\n",
       "      <td>2008-01-09</td>\n",
       "      <td>262</td>\n",
       "      <td>71</td>\n",
       "    </tr>\n",
       "    <tr>\n",
       "      <th>1</th>\n",
       "      <td>Manage west energy.</td>\n",
       "      <td>Eric Miller</td>\n",
       "      <td>Raise get.</td>\n",
       "      <td>Jazz</td>\n",
       "      <td>2011-08-20</td>\n",
       "      <td>187</td>\n",
       "      <td>37</td>\n",
       "    </tr>\n",
       "    <tr>\n",
       "      <th>2</th>\n",
       "      <td>Evening court painting.</td>\n",
       "      <td>Richard Curry</td>\n",
       "      <td>Sport.</td>\n",
       "      <td>Electronic</td>\n",
       "      <td>2010-05-30</td>\n",
       "      <td>212</td>\n",
       "      <td>58</td>\n",
       "    </tr>\n",
       "    <tr>\n",
       "      <th>3</th>\n",
       "      <td>Section turn hour.</td>\n",
       "      <td>James Smith</td>\n",
       "      <td>Full.</td>\n",
       "      <td>Hip-Hop</td>\n",
       "      <td>2014-10-12</td>\n",
       "      <td>272</td>\n",
       "      <td>59</td>\n",
       "    </tr>\n",
       "    <tr>\n",
       "      <th>4</th>\n",
       "      <td>Five agreement teach.</td>\n",
       "      <td>Amy Rodriguez</td>\n",
       "      <td>Eat.</td>\n",
       "      <td>Blues</td>\n",
       "      <td>2005-06-09</td>\n",
       "      <td>131</td>\n",
       "      <td>34</td>\n",
       "    </tr>\n",
       "  </tbody>\n",
       "</table>\n",
       "</div>"
      ],
      "text/plain": [
       "                     Title            Artist       Album       Genre  \\\n",
       "0       Include name this.  Patrick Anderson       Care.         R&B   \n",
       "1      Manage west energy.       Eric Miller  Raise get.        Jazz   \n",
       "2  Evening court painting.     Richard Curry      Sport.  Electronic   \n",
       "3       Section turn hour.       James Smith       Full.     Hip-Hop   \n",
       "4    Five agreement teach.     Amy Rodriguez        Eat.       Blues   \n",
       "\n",
       "  Release Date  Duration in Minutes  Popularity  \n",
       "0   2008-01-09                  262          71  \n",
       "1   2011-08-20                  187          37  \n",
       "2   2010-05-30                  212          58  \n",
       "3   2014-10-12                  272          59  \n",
       "4   2005-06-09                  131          34  "
      ]
     },
     "execution_count": 18,
     "metadata": {},
     "output_type": "execute_result"
    }
   ],
   "source": [
    "df.head()"
   ]
  },
  {
   "cell_type": "code",
   "execution_count": 19,
   "id": "b76ab784-3f89-40e4-a3fc-d61f8103ecb6",
   "metadata": {},
   "outputs": [
    {
     "data": {
      "text/plain": [
       "Genre\n",
       "Blues         5101\n",
       "Classical     4972\n",
       "Country       5176\n",
       "Electronic    4968\n",
       "Hip-Hop       5033\n",
       "Jazz          4939\n",
       "Pop           5026\n",
       "R&B           4973\n",
       "Reggae        4946\n",
       "Rock          4866\n",
       "Name: Album, dtype: int64"
      ]
     },
     "execution_count": 19,
     "metadata": {},
     "output_type": "execute_result"
    }
   ],
   "source": [
    "df.groupby(\"Genre\")[\"Album\"].count()"
   ]
  },
  {
   "cell_type": "code",
   "execution_count": 20,
   "id": "0811035a-5c12-46dc-92e5-89e5e262cc30",
   "metadata": {},
   "outputs": [],
   "source": [
    "df['Release Date'] = pd.to_datetime(df['Release Date'])"
   ]
  },
  {
   "cell_type": "code",
   "execution_count": 21,
   "id": "0aebf631-e9ea-46eb-b505-a4c455f5277b",
   "metadata": {},
   "outputs": [
    {
     "data": {
      "text/html": [
       "<div>\n",
       "<style scoped>\n",
       "    .dataframe tbody tr th:only-of-type {\n",
       "        vertical-align: middle;\n",
       "    }\n",
       "\n",
       "    .dataframe tbody tr th {\n",
       "        vertical-align: top;\n",
       "    }\n",
       "\n",
       "    .dataframe thead th {\n",
       "        text-align: right;\n",
       "    }\n",
       "</style>\n",
       "<table border=\"1\" class=\"dataframe\">\n",
       "  <thead>\n",
       "    <tr style=\"text-align: right;\">\n",
       "      <th></th>\n",
       "      <th>Title</th>\n",
       "      <th>Artist</th>\n",
       "      <th>Album</th>\n",
       "      <th>Genre</th>\n",
       "      <th>Release Date</th>\n",
       "      <th>Duration in Minutes</th>\n",
       "      <th>Popularity</th>\n",
       "    </tr>\n",
       "  </thead>\n",
       "  <tbody>\n",
       "    <tr>\n",
       "      <th>0</th>\n",
       "      <td>Include name this.</td>\n",
       "      <td>Patrick Anderson</td>\n",
       "      <td>Care.</td>\n",
       "      <td>R&amp;B</td>\n",
       "      <td>2008-01-09</td>\n",
       "      <td>262</td>\n",
       "      <td>71</td>\n",
       "    </tr>\n",
       "    <tr>\n",
       "      <th>2</th>\n",
       "      <td>Evening court painting.</td>\n",
       "      <td>Richard Curry</td>\n",
       "      <td>Sport.</td>\n",
       "      <td>Electronic</td>\n",
       "      <td>2010-05-30</td>\n",
       "      <td>212</td>\n",
       "      <td>58</td>\n",
       "    </tr>\n",
       "    <tr>\n",
       "      <th>4</th>\n",
       "      <td>Five agreement teach.</td>\n",
       "      <td>Amy Rodriguez</td>\n",
       "      <td>Eat.</td>\n",
       "      <td>Blues</td>\n",
       "      <td>2005-06-09</td>\n",
       "      <td>131</td>\n",
       "      <td>34</td>\n",
       "    </tr>\n",
       "    <tr>\n",
       "      <th>5</th>\n",
       "      <td>Turn child.</td>\n",
       "      <td>Jessica Martin</td>\n",
       "      <td>Cold according.</td>\n",
       "      <td>R&amp;B</td>\n",
       "      <td>2006-09-16</td>\n",
       "      <td>207</td>\n",
       "      <td>58</td>\n",
       "    </tr>\n",
       "    <tr>\n",
       "      <th>6</th>\n",
       "      <td>Old.</td>\n",
       "      <td>Cheyenne Powell</td>\n",
       "      <td>Oil.</td>\n",
       "      <td>Country</td>\n",
       "      <td>2010-04-23</td>\n",
       "      <td>163</td>\n",
       "      <td>72</td>\n",
       "    </tr>\n",
       "    <tr>\n",
       "      <th>...</th>\n",
       "      <td>...</td>\n",
       "      <td>...</td>\n",
       "      <td>...</td>\n",
       "      <td>...</td>\n",
       "      <td>...</td>\n",
       "      <td>...</td>\n",
       "      <td>...</td>\n",
       "    </tr>\n",
       "    <tr>\n",
       "      <th>49986</th>\n",
       "      <td>Fly live.</td>\n",
       "      <td>Katie Rodriguez</td>\n",
       "      <td>Guess sometimes.</td>\n",
       "      <td>Rock</td>\n",
       "      <td>2007-01-17</td>\n",
       "      <td>299</td>\n",
       "      <td>4</td>\n",
       "    </tr>\n",
       "    <tr>\n",
       "      <th>49990</th>\n",
       "      <td>Land recent bank.</td>\n",
       "      <td>Christopher Silva</td>\n",
       "      <td>Long.</td>\n",
       "      <td>Pop</td>\n",
       "      <td>2009-08-06</td>\n",
       "      <td>163</td>\n",
       "      <td>2</td>\n",
       "    </tr>\n",
       "    <tr>\n",
       "      <th>49993</th>\n",
       "      <td>By population message.</td>\n",
       "      <td>Madeline Dickson</td>\n",
       "      <td>Mean.</td>\n",
       "      <td>Classical</td>\n",
       "      <td>2005-02-13</td>\n",
       "      <td>142</td>\n",
       "      <td>59</td>\n",
       "    </tr>\n",
       "    <tr>\n",
       "      <th>49995</th>\n",
       "      <td>Thing.</td>\n",
       "      <td>Brandon Thomas</td>\n",
       "      <td>Lawyer sign.</td>\n",
       "      <td>Rock</td>\n",
       "      <td>2008-06-07</td>\n",
       "      <td>300</td>\n",
       "      <td>95</td>\n",
       "    </tr>\n",
       "    <tr>\n",
       "      <th>49999</th>\n",
       "      <td>Value.</td>\n",
       "      <td>John Wong</td>\n",
       "      <td>Each.</td>\n",
       "      <td>Country</td>\n",
       "      <td>2002-11-26</td>\n",
       "      <td>203</td>\n",
       "      <td>70</td>\n",
       "    </tr>\n",
       "  </tbody>\n",
       "</table>\n",
       "<p>26209 rows × 7 columns</p>\n",
       "</div>"
      ],
      "text/plain": [
       "                         Title             Artist             Album  \\\n",
       "0           Include name this.   Patrick Anderson             Care.   \n",
       "2      Evening court painting.      Richard Curry            Sport.   \n",
       "4        Five agreement teach.      Amy Rodriguez              Eat.   \n",
       "5                  Turn child.     Jessica Martin   Cold according.   \n",
       "6                         Old.    Cheyenne Powell              Oil.   \n",
       "...                        ...                ...               ...   \n",
       "49986                Fly live.    Katie Rodriguez  Guess sometimes.   \n",
       "49990        Land recent bank.  Christopher Silva             Long.   \n",
       "49993   By population message.   Madeline Dickson             Mean.   \n",
       "49995                   Thing.     Brandon Thomas      Lawyer sign.   \n",
       "49999                   Value.          John Wong             Each.   \n",
       "\n",
       "            Genre Release Date  Duration in Minutes  Popularity  \n",
       "0             R&B   2008-01-09                  262          71  \n",
       "2      Electronic   2010-05-30                  212          58  \n",
       "4           Blues   2005-06-09                  131          34  \n",
       "5             R&B   2006-09-16                  207          58  \n",
       "6         Country   2010-04-23                  163          72  \n",
       "...           ...          ...                  ...         ...  \n",
       "49986        Rock   2007-01-17                  299           4  \n",
       "49990         Pop   2009-08-06                  163           2  \n",
       "49993   Classical   2005-02-13                  142          59  \n",
       "49995        Rock   2008-06-07                  300          95  \n",
       "49999     Country   2002-11-26                  203          70  \n",
       "\n",
       "[26209 rows x 7 columns]"
      ]
     },
     "execution_count": 21,
     "metadata": {},
     "output_type": "execute_result"
    }
   ],
   "source": [
    "# Define the date you want to filter by\n",
    "date_filter = pd.to_datetime(\"2010-12-31\")\n",
    "\n",
    "# Filter the DataFrame\n",
    "First_Decade = df[df['Release Date'] <= date_filter]\n",
    "First_Decade"
   ]
  },
  {
   "cell_type": "code",
   "execution_count": 22,
   "id": "d495fe30-14e9-481e-a6bc-ece8fac4f4b7",
   "metadata": {},
   "outputs": [
    {
     "data": {
      "text/plain": [
       "Genre\n",
       "Blues         2762\n",
       "Classical     2578\n",
       "Country       2706\n",
       "Electronic    2600\n",
       "Hip-Hop       2660\n",
       "Jazz          2564\n",
       "Pop           2632\n",
       "R&B           2608\n",
       "Reggae        2519\n",
       "Rock          2580\n",
       "Name: Release Date, dtype: int64"
      ]
     },
     "execution_count": 22,
     "metadata": {},
     "output_type": "execute_result"
    }
   ],
   "source": [
    "# Which genre had the highest count between 2000 to 2010(first_decade)\n",
    "\n",
    "First_Decade.groupby(\"Genre\")[\"Release Date\"].count()"
   ]
  },
  {
   "cell_type": "code",
   "execution_count": 47,
   "id": "e768173a-21e0-4492-888b-41c394a9dc2c",
   "metadata": {},
   "outputs": [
    {
     "data": {
      "text/plain": [
       "26209"
      ]
     },
     "execution_count": 47,
     "metadata": {},
     "output_type": "execute_result"
    }
   ],
   "source": [
    "#Total count for the first_decade\n",
    "First_Decade_Count=First_Decade[\"Genre\"].count()\n",
    "First_Decade_Count"
   ]
  },
  {
   "cell_type": "code",
   "execution_count": 24,
   "id": "b538b85e-7e78-4209-a977-ac40df06c9e8",
   "metadata": {},
   "outputs": [
    {
     "data": {
      "text/html": [
       "<div>\n",
       "<style scoped>\n",
       "    .dataframe tbody tr th:only-of-type {\n",
       "        vertical-align: middle;\n",
       "    }\n",
       "\n",
       "    .dataframe tbody tr th {\n",
       "        vertical-align: top;\n",
       "    }\n",
       "\n",
       "    .dataframe thead th {\n",
       "        text-align: right;\n",
       "    }\n",
       "</style>\n",
       "<table border=\"1\" class=\"dataframe\">\n",
       "  <thead>\n",
       "    <tr style=\"text-align: right;\">\n",
       "      <th></th>\n",
       "      <th>Title</th>\n",
       "      <th>Artist</th>\n",
       "      <th>Album</th>\n",
       "      <th>Genre</th>\n",
       "      <th>Release Date</th>\n",
       "      <th>Duration in Minutes</th>\n",
       "      <th>Popularity</th>\n",
       "    </tr>\n",
       "  </thead>\n",
       "  <tbody>\n",
       "    <tr>\n",
       "      <th>0</th>\n",
       "      <td>Include name this.</td>\n",
       "      <td>Patrick Anderson</td>\n",
       "      <td>Care.</td>\n",
       "      <td>R&amp;B</td>\n",
       "      <td>2008-01-09</td>\n",
       "      <td>262</td>\n",
       "      <td>71</td>\n",
       "    </tr>\n",
       "    <tr>\n",
       "      <th>1</th>\n",
       "      <td>Manage west energy.</td>\n",
       "      <td>Eric Miller</td>\n",
       "      <td>Raise get.</td>\n",
       "      <td>Jazz</td>\n",
       "      <td>2011-08-20</td>\n",
       "      <td>187</td>\n",
       "      <td>37</td>\n",
       "    </tr>\n",
       "    <tr>\n",
       "      <th>2</th>\n",
       "      <td>Evening court painting.</td>\n",
       "      <td>Richard Curry</td>\n",
       "      <td>Sport.</td>\n",
       "      <td>Electronic</td>\n",
       "      <td>2010-05-30</td>\n",
       "      <td>212</td>\n",
       "      <td>58</td>\n",
       "    </tr>\n",
       "    <tr>\n",
       "      <th>3</th>\n",
       "      <td>Section turn hour.</td>\n",
       "      <td>James Smith</td>\n",
       "      <td>Full.</td>\n",
       "      <td>Hip-Hop</td>\n",
       "      <td>2014-10-12</td>\n",
       "      <td>272</td>\n",
       "      <td>59</td>\n",
       "    </tr>\n",
       "    <tr>\n",
       "      <th>4</th>\n",
       "      <td>Five agreement teach.</td>\n",
       "      <td>Amy Rodriguez</td>\n",
       "      <td>Eat.</td>\n",
       "      <td>Blues</td>\n",
       "      <td>2005-06-09</td>\n",
       "      <td>131</td>\n",
       "      <td>34</td>\n",
       "    </tr>\n",
       "    <tr>\n",
       "      <th>...</th>\n",
       "      <td>...</td>\n",
       "      <td>...</td>\n",
       "      <td>...</td>\n",
       "      <td>...</td>\n",
       "      <td>...</td>\n",
       "      <td>...</td>\n",
       "      <td>...</td>\n",
       "    </tr>\n",
       "    <tr>\n",
       "      <th>49995</th>\n",
       "      <td>Thing.</td>\n",
       "      <td>Brandon Thomas</td>\n",
       "      <td>Lawyer sign.</td>\n",
       "      <td>Rock</td>\n",
       "      <td>2008-06-07</td>\n",
       "      <td>300</td>\n",
       "      <td>95</td>\n",
       "    </tr>\n",
       "    <tr>\n",
       "      <th>49996</th>\n",
       "      <td>Option.</td>\n",
       "      <td>Barry White</td>\n",
       "      <td>Cold.</td>\n",
       "      <td>Pop</td>\n",
       "      <td>2016-09-06</td>\n",
       "      <td>220</td>\n",
       "      <td>23</td>\n",
       "    </tr>\n",
       "    <tr>\n",
       "      <th>49997</th>\n",
       "      <td>Ability ever.</td>\n",
       "      <td>Leah Obrien</td>\n",
       "      <td>Trade.</td>\n",
       "      <td>Blues</td>\n",
       "      <td>2013-10-16</td>\n",
       "      <td>257</td>\n",
       "      <td>79</td>\n",
       "    </tr>\n",
       "    <tr>\n",
       "      <th>49998</th>\n",
       "      <td>Occur claim who.</td>\n",
       "      <td>Ashley James</td>\n",
       "      <td>Explain moment.</td>\n",
       "      <td>Jazz</td>\n",
       "      <td>2018-03-06</td>\n",
       "      <td>262</td>\n",
       "      <td>22</td>\n",
       "    </tr>\n",
       "    <tr>\n",
       "      <th>49999</th>\n",
       "      <td>Value.</td>\n",
       "      <td>John Wong</td>\n",
       "      <td>Each.</td>\n",
       "      <td>Country</td>\n",
       "      <td>2002-11-26</td>\n",
       "      <td>203</td>\n",
       "      <td>70</td>\n",
       "    </tr>\n",
       "  </tbody>\n",
       "</table>\n",
       "<p>50000 rows × 7 columns</p>\n",
       "</div>"
      ],
      "text/plain": [
       "                         Title            Artist            Album       Genre  \\\n",
       "0           Include name this.  Patrick Anderson            Care.         R&B   \n",
       "1          Manage west energy.       Eric Miller       Raise get.        Jazz   \n",
       "2      Evening court painting.     Richard Curry           Sport.  Electronic   \n",
       "3           Section turn hour.       James Smith            Full.     Hip-Hop   \n",
       "4        Five agreement teach.     Amy Rodriguez             Eat.       Blues   \n",
       "...                        ...               ...              ...         ...   \n",
       "49995                   Thing.    Brandon Thomas     Lawyer sign.        Rock   \n",
       "49996                  Option.       Barry White            Cold.         Pop   \n",
       "49997            Ability ever.       Leah Obrien           Trade.       Blues   \n",
       "49998         Occur claim who.      Ashley James  Explain moment.        Jazz   \n",
       "49999                   Value.         John Wong            Each.     Country   \n",
       "\n",
       "      Release Date  Duration in Minutes  Popularity  \n",
       "0       2008-01-09                  262          71  \n",
       "1       2011-08-20                  187          37  \n",
       "2       2010-05-30                  212          58  \n",
       "3       2014-10-12                  272          59  \n",
       "4       2005-06-09                  131          34  \n",
       "...            ...                  ...         ...  \n",
       "49995   2008-06-07                  300          95  \n",
       "49996   2016-09-06                  220          23  \n",
       "49997   2013-10-16                  257          79  \n",
       "49998   2018-03-06                  262          22  \n",
       "49999   2002-11-26                  203          70  \n",
       "\n",
       "[50000 rows x 7 columns]"
      ]
     },
     "execution_count": 24,
     "metadata": {},
     "output_type": "execute_result"
    }
   ],
   "source": [
    "# Define the date you want to filter by\n",
    "date_filter = pd.to_datetime(\"2020-12-31\")\n",
    "\n",
    "# Filter the DataFrame\n",
    "Second_Decade = df[df['Release Date'] <= date_filter]\n",
    "Second_Decade"
   ]
  },
  {
   "cell_type": "code",
   "execution_count": 25,
   "id": "f6c4a84a-ae38-4ab4-9355-71c7510b5c79",
   "metadata": {},
   "outputs": [
    {
     "data": {
      "text/plain": [
       "Genre\n",
       "Blues         5101\n",
       "Classical     4972\n",
       "Country       5176\n",
       "Electronic    4968\n",
       "Hip-Hop       5033\n",
       "Jazz          4939\n",
       "Pop           5026\n",
       "R&B           4973\n",
       "Reggae        4946\n",
       "Rock          4866\n",
       "Name: Release Date, dtype: int64"
      ]
     },
     "execution_count": 25,
     "metadata": {},
     "output_type": "execute_result"
    }
   ],
   "source": [
    "# Which genre had the highest count between 2011 to 2020(second_decade)\n",
    "\n",
    "Second_Decade.groupby(\"Genre\")[\"Release Date\"].count()"
   ]
  },
  {
   "cell_type": "code",
   "execution_count": 45,
   "id": "c8f15767-8e75-4ffa-aeab-56bc75340a8f",
   "metadata": {},
   "outputs": [
    {
     "data": {
      "text/plain": [
       "50000"
      ]
     },
     "execution_count": 45,
     "metadata": {},
     "output_type": "execute_result"
    }
   ],
   "source": [
    "#Total count for the second_decade\n",
    "Second_Decade_Count=Second_Decade[\"Genre\"].count()\n",
    "Second_Decade_Count"
   ]
  },
  {
   "cell_type": "code",
   "execution_count": 27,
   "id": "6f9ad0ae-341f-4dd4-a31a-5a65eec97797",
   "metadata": {},
   "outputs": [
    {
     "name": "stdout",
     "output_type": "stream",
     "text": [
      "26209\n",
      "50000\n",
      "90.77416154756\n"
     ]
    }
   ],
   "source": [
    "Percentage_Increase_between_decades= ((Second_Decade_Count-First_Decade_Count)/First_Decade_Count)*100\n",
    "print(First_Decade_Count)\n",
    "print(Second_Decade_Count)\n",
    "print(Percentage_Increase_between_decades)"
   ]
  },
  {
   "cell_type": "markdown",
   "id": "0925b79b-bc8d-45b0-8832-8846c0954579",
   "metadata": {},
   "source": [
    "#### Summary for the first and second decade \n",
    "Production increased in the second decade by 90.7%\n",
    "Highest Increase in Releases: The genre with the highest increase in the number of releases is Country, increasing from 2,706 in the first decade to 5,176 in the second decade.\n",
    "Blues: The number of Blues releases rose from 2,762 to 5,101.\n",
    "Classical: Classical music releases increased from 2,578 to 4,972.\n",
    "Electronic: Although Electronic music releases grew, it remained consistent in its rank.\n",
    "Hip-Hop and R&B: Both genres showed substantial increases, with Hip-Hop having 5,033 releases and R&B having 4,973 releases in the second decade.\n",
    "Rock: Despite an increase in releases, Rock saw the lowest number of releases in the second decade compared to other genres, though it still doubled its count from the first decade.\n",
    "Pop: Pop music consistently saw a high number of releases, with a notable increase from 2,632 to 5,026.\n",
    "\n"
   ]
  },
  {
   "cell_type": "code",
   "execution_count": 36,
   "id": "5ee665b7-ffaf-41d9-9ba1-2064b095a676",
   "metadata": {},
   "outputs": [
    {
     "data": {
      "text/plain": [
       "Genre\n",
       "Blues         136816\n",
       "Classical     130989\n",
       "Country       134882\n",
       "Electronic    129253\n",
       "Hip-Hop       132678\n",
       "Jazz          129983\n",
       "Pop           133671\n",
       "R&B           132582\n",
       "Reggae        128671\n",
       "Rock          129652\n",
       "Name: Popularity, dtype: int64"
      ]
     },
     "execution_count": 36,
     "metadata": {},
     "output_type": "execute_result"
    }
   ],
   "source": [
    "First_Decade_First_Decade.groupby(\"Genre\")[\"Popularity\"].sum()"
   ]
  },
  {
   "cell_type": "code",
   "execution_count": 38,
   "id": "a146fb12-4609-4bf2-903b-89363ac7ea41",
   "metadata": {},
   "outputs": [
    {
     "data": {
      "text/plain": [
       "Genre\n",
       "Blues         252599\n",
       "Classical     252011\n",
       "Country       260168\n",
       "Electronic    247380\n",
       "Hip-Hop       251484\n",
       "Jazz          250065\n",
       "Pop           253299\n",
       "R&B           250770\n",
       "Reggae        251568\n",
       "Rock          243848\n",
       "Name: Popularity, dtype: int64"
      ]
     },
     "execution_count": 38,
     "metadata": {},
     "output_type": "execute_result"
    }
   ],
   "source": [
    "Second_Decade.groupby(\"Genre\")[\"Popularity\"].sum()"
   ]
  },
  {
   "cell_type": "markdown",
   "id": "be28f1d1-c3e2-4489-a9f4-313fa0625734",
   "metadata": {},
   "source": []
  },
  {
   "cell_type": "markdown",
   "id": "846f396c-08f2-4a49-a49d-5013dcd68b61",
   "metadata": {},
   "source": [
    "#### Summary of the popularity based on Genre for the First and Second Decade\n",
    "Overall Increase: All genres experienced a significant increase in popularity from the first to the second decade.\n",
    "Highest Growth: The genre with the highest growth in popularity is Country, increasing from 134,882 in the first decade to 260,168 in the second decade.\n",
    "Blues: The popularity of Blues rose from 136,816 to 252,599.\n",
    "Classical: Classical music's popularity increased from 130,989 to 252,011.\n",
    "Electronic: Although Electronic music's popularity grew, it remained one of the lower-ranking genres in both decades.\n",
    "Hip-Hop and R&B: Both genres showed substantial increases, maintaining close popularity figures in both decades.\n",
    "Rock: Despite an increase in popularity, Rock saw the lowest increase among the genres in the second decade, suggesting a slower growth rate compared to other genres.\n",
    "Pop: Pop music consistently remained popular, with a notable increase from 133,671 to 253,299."
   ]
  },
  {
   "cell_type": "code",
   "execution_count": 69,
   "id": "2db4a8f3-0cd6-4d96-a29d-93a09ddb5dfc",
   "metadata": {},
   "outputs": [
    {
     "data": {
      "text/html": [
       "<div>\n",
       "<style scoped>\n",
       "    .dataframe tbody tr th:only-of-type {\n",
       "        vertical-align: middle;\n",
       "    }\n",
       "\n",
       "    .dataframe tbody tr th {\n",
       "        vertical-align: top;\n",
       "    }\n",
       "\n",
       "    .dataframe thead th {\n",
       "        text-align: right;\n",
       "    }\n",
       "</style>\n",
       "<table border=\"1\" class=\"dataframe\">\n",
       "  <thead>\n",
       "    <tr style=\"text-align: right;\">\n",
       "      <th></th>\n",
       "      <th>Duration in Minutes</th>\n",
       "      <th>Popularity</th>\n",
       "    </tr>\n",
       "  </thead>\n",
       "  <tbody>\n",
       "    <tr>\n",
       "      <th>0</th>\n",
       "      <td>262</td>\n",
       "      <td>71</td>\n",
       "    </tr>\n",
       "    <tr>\n",
       "      <th>1</th>\n",
       "      <td>187</td>\n",
       "      <td>37</td>\n",
       "    </tr>\n",
       "    <tr>\n",
       "      <th>2</th>\n",
       "      <td>212</td>\n",
       "      <td>58</td>\n",
       "    </tr>\n",
       "    <tr>\n",
       "      <th>3</th>\n",
       "      <td>272</td>\n",
       "      <td>59</td>\n",
       "    </tr>\n",
       "    <tr>\n",
       "      <th>4</th>\n",
       "      <td>131</td>\n",
       "      <td>34</td>\n",
       "    </tr>\n",
       "    <tr>\n",
       "      <th>...</th>\n",
       "      <td>...</td>\n",
       "      <td>...</td>\n",
       "    </tr>\n",
       "    <tr>\n",
       "      <th>49995</th>\n",
       "      <td>300</td>\n",
       "      <td>95</td>\n",
       "    </tr>\n",
       "    <tr>\n",
       "      <th>49996</th>\n",
       "      <td>220</td>\n",
       "      <td>23</td>\n",
       "    </tr>\n",
       "    <tr>\n",
       "      <th>49997</th>\n",
       "      <td>257</td>\n",
       "      <td>79</td>\n",
       "    </tr>\n",
       "    <tr>\n",
       "      <th>49998</th>\n",
       "      <td>262</td>\n",
       "      <td>22</td>\n",
       "    </tr>\n",
       "    <tr>\n",
       "      <th>49999</th>\n",
       "      <td>203</td>\n",
       "      <td>70</td>\n",
       "    </tr>\n",
       "  </tbody>\n",
       "</table>\n",
       "<p>50000 rows × 2 columns</p>\n",
       "</div>"
      ],
      "text/plain": [
       "       Duration in Minutes  Popularity\n",
       "0                      262          71\n",
       "1                      187          37\n",
       "2                      212          58\n",
       "3                      272          59\n",
       "4                      131          34\n",
       "...                    ...         ...\n",
       "49995                  300          95\n",
       "49996                  220          23\n",
       "49997                  257          79\n",
       "49998                  262          22\n",
       "49999                  203          70\n",
       "\n",
       "[50000 rows x 2 columns]"
      ]
     },
     "execution_count": 69,
     "metadata": {},
     "output_type": "execute_result"
    }
   ],
   "source": [
    "df_duration=df[[\"Duration in Minutes\",\"Popularity\"]]\n",
    "df_duration"
   ]
  },
  {
   "cell_type": "code",
   "execution_count": 71,
   "id": "9f9c8691-84ae-4a10-b960-24d50d70fca9",
   "metadata": {},
   "outputs": [
    {
     "data": {
      "text/html": [
       "<div>\n",
       "<style scoped>\n",
       "    .dataframe tbody tr th:only-of-type {\n",
       "        vertical-align: middle;\n",
       "    }\n",
       "\n",
       "    .dataframe tbody tr th {\n",
       "        vertical-align: top;\n",
       "    }\n",
       "\n",
       "    .dataframe thead th {\n",
       "        text-align: right;\n",
       "    }\n",
       "</style>\n",
       "<table border=\"1\" class=\"dataframe\">\n",
       "  <thead>\n",
       "    <tr style=\"text-align: right;\">\n",
       "      <th></th>\n",
       "      <th>Duration in Minutes</th>\n",
       "      <th>Popularity</th>\n",
       "    </tr>\n",
       "  </thead>\n",
       "  <tbody>\n",
       "    <tr>\n",
       "      <th>0</th>\n",
       "      <td>262</td>\n",
       "      <td>71</td>\n",
       "    </tr>\n",
       "    <tr>\n",
       "      <th>1</th>\n",
       "      <td>187</td>\n",
       "      <td>37</td>\n",
       "    </tr>\n",
       "    <tr>\n",
       "      <th>2</th>\n",
       "      <td>212</td>\n",
       "      <td>58</td>\n",
       "    </tr>\n",
       "    <tr>\n",
       "      <th>3</th>\n",
       "      <td>272</td>\n",
       "      <td>59</td>\n",
       "    </tr>\n",
       "    <tr>\n",
       "      <th>4</th>\n",
       "      <td>131</td>\n",
       "      <td>34</td>\n",
       "    </tr>\n",
       "  </tbody>\n",
       "</table>\n",
       "</div>"
      ],
      "text/plain": [
       "   Duration in Minutes  Popularity\n",
       "0                  262          71\n",
       "1                  187          37\n",
       "2                  212          58\n",
       "3                  272          59\n",
       "4                  131          34"
      ]
     },
     "execution_count": 71,
     "metadata": {},
     "output_type": "execute_result"
    }
   ],
   "source": [
    "df_duration.head()"
   ]
  },
  {
   "cell_type": "markdown",
   "id": "0758634e-dafd-41ed-80af-64958339ea2a",
   "metadata": {},
   "source": [
    "#### Duration in Minutes versus Popularity\n",
    "The data presents a range of durations and popularity scores,with the longest duration being 272 minutes and the shortest being 131 minutes. Popularity scores vary from 34 to 71, showing no clear pattern or correlation between the duration of the entries and their popularity.\n",
    "\n",
    "\n",
    "\n",
    "\n",
    "\n",
    "\n"
   ]
  },
  {
   "cell_type": "code",
   "execution_count": 83,
   "id": "8e552ddb-f6d0-45bf-9045-53c9c7cae5c8",
   "metadata": {},
   "outputs": [
    {
     "data": {
      "text/html": [
       "<div>\n",
       "<style scoped>\n",
       "    .dataframe tbody tr th:only-of-type {\n",
       "        vertical-align: middle;\n",
       "    }\n",
       "\n",
       "    .dataframe tbody tr th {\n",
       "        vertical-align: top;\n",
       "    }\n",
       "\n",
       "    .dataframe thead tr th {\n",
       "        text-align: left;\n",
       "    }\n",
       "\n",
       "    .dataframe thead tr:last-of-type th {\n",
       "        text-align: right;\n",
       "    }\n",
       "</style>\n",
       "<table border=\"1\" class=\"dataframe\">\n",
       "  <thead>\n",
       "    <tr>\n",
       "      <th></th>\n",
       "      <th colspan=\"4\" halign=\"left\">Duration in Minutes</th>\n",
       "    </tr>\n",
       "    <tr>\n",
       "      <th></th>\n",
       "      <th>sum</th>\n",
       "      <th>mean</th>\n",
       "      <th>max</th>\n",
       "      <th>min</th>\n",
       "    </tr>\n",
       "    <tr>\n",
       "      <th>Genre</th>\n",
       "      <th></th>\n",
       "      <th></th>\n",
       "      <th></th>\n",
       "      <th></th>\n",
       "    </tr>\n",
       "  </thead>\n",
       "  <tbody>\n",
       "    <tr>\n",
       "      <th>Blues</th>\n",
       "      <td>1070646</td>\n",
       "      <td>209.889433</td>\n",
       "      <td>300</td>\n",
       "      <td>120</td>\n",
       "    </tr>\n",
       "    <tr>\n",
       "      <th>Classical</th>\n",
       "      <td>1047862</td>\n",
       "      <td>210.752615</td>\n",
       "      <td>300</td>\n",
       "      <td>120</td>\n",
       "    </tr>\n",
       "    <tr>\n",
       "      <th>Country</th>\n",
       "      <td>1082050</td>\n",
       "      <td>209.051391</td>\n",
       "      <td>300</td>\n",
       "      <td>120</td>\n",
       "    </tr>\n",
       "    <tr>\n",
       "      <th>Electronic</th>\n",
       "      <td>1041113</td>\n",
       "      <td>209.563808</td>\n",
       "      <td>300</td>\n",
       "      <td>120</td>\n",
       "    </tr>\n",
       "    <tr>\n",
       "      <th>Hip-Hop</th>\n",
       "      <td>1051160</td>\n",
       "      <td>208.853566</td>\n",
       "      <td>300</td>\n",
       "      <td>120</td>\n",
       "    </tr>\n",
       "    <tr>\n",
       "      <th>Jazz</th>\n",
       "      <td>1034456</td>\n",
       "      <td>209.446447</td>\n",
       "      <td>300</td>\n",
       "      <td>120</td>\n",
       "    </tr>\n",
       "    <tr>\n",
       "      <th>Pop</th>\n",
       "      <td>1050741</td>\n",
       "      <td>209.061082</td>\n",
       "      <td>300</td>\n",
       "      <td>120</td>\n",
       "    </tr>\n",
       "    <tr>\n",
       "      <th>R&amp;B</th>\n",
       "      <td>1045228</td>\n",
       "      <td>210.180575</td>\n",
       "      <td>300</td>\n",
       "      <td>120</td>\n",
       "    </tr>\n",
       "    <tr>\n",
       "      <th>Reggae</th>\n",
       "      <td>1036545</td>\n",
       "      <td>209.572382</td>\n",
       "      <td>300</td>\n",
       "      <td>120</td>\n",
       "    </tr>\n",
       "    <tr>\n",
       "      <th>Rock</th>\n",
       "      <td>1027344</td>\n",
       "      <td>211.127004</td>\n",
       "      <td>300</td>\n",
       "      <td>120</td>\n",
       "    </tr>\n",
       "  </tbody>\n",
       "</table>\n",
       "</div>"
      ],
      "text/plain": [
       "           Duration in Minutes                      \n",
       "                           sum        mean  max  min\n",
       "Genre                                               \n",
       "Blues                  1070646  209.889433  300  120\n",
       "Classical              1047862  210.752615  300  120\n",
       "Country                1082050  209.051391  300  120\n",
       "Electronic             1041113  209.563808  300  120\n",
       "Hip-Hop                1051160  208.853566  300  120\n",
       "Jazz                   1034456  209.446447  300  120\n",
       "Pop                    1050741  209.061082  300  120\n",
       "R&B                    1045228  210.180575  300  120\n",
       "Reggae                 1036545  209.572382  300  120\n",
       "Rock                   1027344  211.127004  300  120"
      ]
     },
     "execution_count": 83,
     "metadata": {},
     "output_type": "execute_result"
    }
   ],
   "source": [
    "df.groupby(\"Genre\").agg({\"Duration in Minutes\":[\"sum\",\"mean\",\"max\",\"min\"]})"
   ]
  },
  {
   "cell_type": "markdown",
   "id": "43fd2f11-79eb-4e7d-9cd2-52f005be99ed",
   "metadata": {},
   "source": []
  },
  {
   "cell_type": "markdown",
   "id": "1bc23366-3eb0-4da8-a364-e8e847c6655e",
   "metadata": {},
   "source": [
    "#### Duration Statistics by Genre\n",
    "The data reveals that while all genres have songs with durations ranging from 120 to 300 minutes,\n",
    "there are slight variations in the total and average durations across genres. Country music has the highest total duration, indicating it has more cumulative song length over the period analyzed. Rock has the highest average duration, suggesting that on average, Rock songs are slightly longer compared to other genres. Conversely, Hip-Hop has the lowest average duration, indicating slightly shorter songs on average compared to other genres."
   ]
  },
  {
   "cell_type": "code",
   "execution_count": null,
   "id": "c1e1c991-a715-4fa4-aef2-103463d1779d",
   "metadata": {},
   "outputs": [],
   "source": []
  },
  {
   "cell_type": "code",
   "execution_count": null,
   "id": "9ebed603-f0ee-4ac7-adf5-ee92eda82292",
   "metadata": {},
   "outputs": [],
   "source": []
  },
  {
   "cell_type": "code",
   "execution_count": null,
   "id": "85f8f18e-5a58-46b9-a8bb-e9ebac299b2c",
   "metadata": {},
   "outputs": [],
   "source": []
  },
  {
   "cell_type": "code",
   "execution_count": null,
   "id": "8e2a871d-543e-4f18-b263-05080a270a2f",
   "metadata": {},
   "outputs": [],
   "source": []
  },
  {
   "cell_type": "code",
   "execution_count": null,
   "id": "144f435f-d75b-45a6-b148-baba64e2c75f",
   "metadata": {},
   "outputs": [],
   "source": []
  },
  {
   "cell_type": "code",
   "execution_count": null,
   "id": "d21041ef-8607-4604-b7dd-80ab61828277",
   "metadata": {},
   "outputs": [],
   "source": []
  }
 ],
 "metadata": {
  "kernelspec": {
   "display_name": "Python 3 (ipykernel)",
   "language": "python",
   "name": "python3"
  },
  "language_info": {
   "codemirror_mode": {
    "name": "ipython",
    "version": 3
   },
   "file_extension": ".py",
   "mimetype": "text/x-python",
   "name": "python",
   "nbconvert_exporter": "python",
   "pygments_lexer": "ipython3",
   "version": "3.12.4"
  }
 },
 "nbformat": 4,
 "nbformat_minor": 5
}
